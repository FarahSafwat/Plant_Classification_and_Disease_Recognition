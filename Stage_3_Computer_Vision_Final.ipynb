{
  "metadata": {
    "kernelspec": {
      "language": "python",
      "display_name": "Python 3",
      "name": "python3"
    },
    "language_info": {
      "name": "python",
      "version": "3.10.14",
      "mimetype": "text/x-python",
      "codemirror_mode": {
        "name": "ipython",
        "version": 3
      },
      "pygments_lexer": "ipython3",
      "nbconvert_exporter": "python",
      "file_extension": ".py"
    },
    "kaggle": {
      "accelerator": "gpu",
      "dataSources": [
        {
          "sourceId": 10220125,
          "sourceType": "datasetVersion",
          "datasetId": 6317869
        },
        {
          "sourceId": 10239872,
          "sourceType": "datasetVersion",
          "datasetId": 6332340
        },
        {
          "sourceId": 10240580,
          "sourceType": "datasetVersion",
          "datasetId": 6332848
        },
        {
          "sourceId": 10244210,
          "sourceType": "datasetVersion",
          "datasetId": 6335437
        },
        {
          "sourceId": 203076,
          "sourceType": "modelInstanceVersion",
          "isSourceIdPinned": true,
          "modelInstanceId": 173265,
          "modelId": 195603
        }
      ],
      "dockerImageVersionId": 30805,
      "isInternetEnabled": true,
      "language": "python",
      "sourceType": "notebook",
      "isGpuEnabled": true
    },
    "colab": {
      "name": "Stage 3 Computer Vision_Final",
      "provenance": []
    }
  },
  "nbformat_minor": 0,
  "nbformat": 4,
  "cells": [
    {
      "source": [
        "# IMPORTANT: RUN THIS CELL IN ORDER TO IMPORT YOUR KAGGLE DATA SOURCES,\n",
        "# THEN FEEL FREE TO DELETE THIS CELL.\n",
        "# NOTE: THIS NOTEBOOK ENVIRONMENT DIFFERS FROM KAGGLE'S PYTHON\n",
        "# ENVIRONMENT SO THERE MAY BE MISSING LIBRARIES USED BY YOUR\n",
        "# NOTEBOOK.\n",
        "import kagglehub\n",
        "mohamedkhaled28_full_data_final_path = kagglehub.dataset_download('mohamedkhaled28/full-data-final')\n",
        "mohamedkhaled28_test_data_test_path = kagglehub.dataset_download('mohamedkhaled28/test-data-test')\n",
        "\n",
        "print('Data source import complete.')\n"
      ],
      "metadata": {
        "id": "D1I89oSB_UJD"
      },
      "cell_type": "code",
      "outputs": [],
      "execution_count": null
    },
    {
      "cell_type": "code",
      "source": [
        "import os\n",
        "import time\n",
        "import random\n",
        "import numpy as np\n",
        "import pandas as pd\n",
        "import cv2\n",
        "\n",
        "from sklearn.preprocessing import LabelEncoder\n",
        "from sklearn.metrics import accuracy_score, confusion_matrix, classification_report\n",
        "from sklearn.decomposition import PCA\n",
        "from sklearn.linear_model import LogisticRegression\n",
        "from sklearn.ensemble import RandomForestClassifier\n",
        "from sklearn.svm import SVC\n",
        "from sklearn.cluster import KMeans\n",
        "from sklearn.neural_network import MLPClassifier\n",
        "from sklearn.neighbors import KNeighborsClassifier\n",
        "\n",
        "import xgboost as xgb\n",
        "import seaborn as sns\n",
        "import matplotlib.pyplot as plt\n",
        "import tensorflow as tf\n",
        "\n",
        "from tensorflow.keras import backend, layers, metrics\n",
        "from tensorflow.keras.models import Model, Sequential, load_model\n",
        "from tensorflow.keras.layers import (\n",
        "    Input, Conv2D, UpSampling2D, Concatenate, Dense, GlobalAveragePooling2D,\n",
        "    MaxPooling2D, BatchNormalization, Dropout, Flatten, LeakyReLU\n",
        ")\n",
        "from tensorflow.keras.optimizers import Adam\n",
        "from tensorflow.keras.applications import (\n",
        "    ResNet50, VGG16, NASNetMobile, MobileNetV2, InceptionV3,\n",
        "    DenseNet121, Xception, EfficientNetB0\n",
        ")\n",
        "from tensorflow.keras.preprocessing import image\n",
        "from tensorflow.keras.preprocessing.image import (\n",
        "    ImageDataGenerator, load_img, img_to_array\n",
        ")\n",
        "from tensorflow.keras.utils import (\n",
        "    Sequence, to_categorical, plot_model\n",
        ")\n",
        "from tensorflow.keras.callbacks import (\n",
        "    EarlyStopping, LearningRateScheduler, ReduceLROnPlateau\n",
        ")\n",
        "from tensorflow.keras.initializers import GlorotNormal\n",
        "from tensorflow.keras.regularizers import l2"
      ],
      "metadata": {
        "trusted": true,
        "execution": {
          "iopub.status.busy": "2024-12-19T11:55:19.669495Z",
          "iopub.execute_input": "2024-12-19T11:55:19.670388Z",
          "iopub.status.idle": "2024-12-19T11:55:19.678526Z",
          "shell.execute_reply.started": "2024-12-19T11:55:19.670351Z",
          "shell.execute_reply": "2024-12-19T11:55:19.67755Z"
        },
        "id": "k_s6gVIK_UJE"
      },
      "outputs": [],
      "execution_count": null
    },
    {
      "cell_type": "code",
      "source": [
        "def load_images_and_create_map(directory, plant_type_mapping):\n",
        "    img_label_map = {}\n",
        "\n",
        "    label_encoder = LabelEncoder()\n",
        "    label_encoder.fit(list(plant_type_mapping.keys()))\n",
        "\n",
        "\n",
        "    for plant_type, disease_folders in plant_type_mapping.items():\n",
        "\n",
        "        for disease_folder in disease_folders:\n",
        "            disease_folder_path = os.path.join(directory, disease_folder)\n",
        "\n",
        "            for img_name in os.listdir(disease_folder_path):\n",
        "                img_path = os.path.join(disease_folder_path, img_name)\n",
        "\n",
        "                if os.path.isfile(img_path):\n",
        "\n",
        "                    label = label_encoder.transform([plant_type])[0]\n",
        "\n",
        "                    img_label_map[img_path] = label\n",
        "\n",
        "    return img_label_map"
      ],
      "metadata": {
        "trusted": true,
        "execution": {
          "iopub.status.busy": "2024-12-19T11:55:19.680297Z",
          "iopub.execute_input": "2024-12-19T11:55:19.680561Z",
          "iopub.status.idle": "2024-12-19T11:55:19.697635Z",
          "shell.execute_reply.started": "2024-12-19T11:55:19.680537Z",
          "shell.execute_reply": "2024-12-19T11:55:19.696567Z"
        },
        "id": "Jcf5EAaD_UJF"
      },
      "outputs": [],
      "execution_count": null
    },
    {
      "cell_type": "code",
      "source": [
        "def preprocess_image(image_path):\n",
        "    img = load_img(image_path, target_size=(256, 256))\n",
        "    img_array = img_to_array(img)\n",
        "    img_array = img_array / 255.0\n",
        "    return img_array"
      ],
      "metadata": {
        "trusted": true,
        "execution": {
          "iopub.status.busy": "2024-12-19T11:55:19.699226Z",
          "iopub.execute_input": "2024-12-19T11:55:19.699531Z",
          "iopub.status.idle": "2024-12-19T11:55:19.71198Z",
          "shell.execute_reply.started": "2024-12-19T11:55:19.699505Z",
          "shell.execute_reply": "2024-12-19T11:55:19.710924Z"
        },
        "id": "_HLF0aGK_UJG"
      },
      "outputs": [],
      "execution_count": null
    },
    {
      "cell_type": "code",
      "source": [],
      "metadata": {
        "trusted": true,
        "id": "niwNcahC_UJH"
      },
      "outputs": [],
      "execution_count": null
    },
    {
      "cell_type": "code",
      "source": [
        "train_dir = '/kaggle/input/full-data-final/ProjectData/Train/images/'\n",
        "val_dir = '/kaggle/input/full-data-final/ProjectData/Val/images/'"
      ],
      "metadata": {
        "trusted": true,
        "execution": {
          "iopub.status.busy": "2024-12-19T11:55:19.713047Z",
          "iopub.execute_input": "2024-12-19T11:55:19.713321Z",
          "iopub.status.idle": "2024-12-19T11:55:19.723443Z",
          "shell.execute_reply.started": "2024-12-19T11:55:19.713287Z",
          "shell.execute_reply": "2024-12-19T11:55:19.722444Z"
        },
        "id": "Ea4yoFSi_UJH"
      },
      "outputs": [],
      "execution_count": null
    },
    {
      "cell_type": "code",
      "source": [
        "plant_type_mapping = {\n",
        "    \"Apple\": [\"Apple___Apple_scab\", \"Apple___Black_rot\", \"Apple___Cedar_apple_rust\", \"Apple___healthy\"],\n",
        "    \"Cherry_(including_sour)\": [\"Cherry_(including_sour)___healthy\", \"Cherry_(including_sour)___Powdery_mildew\"],\n",
        "    \"Corn_(maize)\": [\"Corn_(maize)___Cercospora_leaf_spot Gray_leaf_spot\", \"Corn_(maize)___Common_rust_\", \"Corn_(maize)___healthy\", \"Corn_(maize)___Northern_Leaf_Blight\"],\n",
        "    \"Grape\": [\"Grape___Black_rot\", \"Grape___Esca_(Black_Measles)\", \"Grape___healthy\", \"Grape___Leaf_blight_(Isariopsis_Leaf_Spot)\"],\n",
        "    \"Peach\": [\"Peach___Bacterial_spot\", \"Peach___healthy\"],\n",
        "    \"Pepper,_bell\": [\"Pepper,_bell___Bacterial_spot\", \"Pepper,_bell___healthy\"],\n",
        "    \"Potato\": [\"Potato___Early_blight\", \"Potato___healthy\", \"Potato___Late_blight\"],\n",
        "    \"Strawberry\": [\"Strawberry___healthy\", \"Strawberry___Leaf_scorch\"],\n",
        "    \"Tomato\": [\"Tomato___Bacterial_spot\", \"Tomato___Early_blight\", \"Tomato___healthy\", \"Tomato___Late_blight\",\n",
        "               \"Tomato___Leaf_Mold\", \"Tomato___Septoria_leaf_spot\", \"Tomato___Spider_mites Two-spotted_spider_mite\",\n",
        "               \"Tomato___Target_Spot\", \"Tomato___Tomato_mosaic_virus\", \"Tomato___Tomato_Yellow_Leaf_Curl_Virus\"]\n",
        "}"
      ],
      "metadata": {
        "trusted": true,
        "execution": {
          "iopub.status.busy": "2024-12-19T11:55:19.72528Z",
          "iopub.execute_input": "2024-12-19T11:55:19.725613Z",
          "iopub.status.idle": "2024-12-19T11:55:19.736685Z",
          "shell.execute_reply.started": "2024-12-19T11:55:19.725562Z",
          "shell.execute_reply": "2024-12-19T11:55:19.735841Z"
        },
        "id": "qsAAb-qH_UJI"
      },
      "outputs": [],
      "execution_count": null
    },
    {
      "cell_type": "code",
      "source": [
        "train_img_label_map = load_images_and_create_map(train_dir, plant_type_mapping)\n",
        "print(\"Training dataset mapping length:\", len(train_img_label_map))\n",
        "\n",
        "val_img_label_map = load_images_and_create_map(val_dir, plant_type_mapping)\n",
        "print(\"Validation dataset mapping length:\", len(val_img_label_map))"
      ],
      "metadata": {
        "trusted": true,
        "execution": {
          "iopub.status.busy": "2024-12-19T11:55:19.737626Z",
          "iopub.execute_input": "2024-12-19T11:55:19.737897Z",
          "iopub.status.idle": "2024-12-19T11:55:20.724957Z",
          "shell.execute_reply.started": "2024-12-19T11:55:19.737872Z",
          "shell.execute_reply": "2024-12-19T11:55:20.72397Z"
        },
        "id": "6tj90K8X_UJJ"
      },
      "outputs": [],
      "execution_count": null
    },
    {
      "cell_type": "markdown",
      "source": [
        "### **Mask Data**"
      ],
      "metadata": {
        "id": "anrzpjyH_UJJ"
      }
    },
    {
      "cell_type": "code",
      "source": [
        "train_dir_mask = \"/kaggle/input/full-data-final/ProjectData/Train/mask\"\n",
        "val_dir_mask = \"/kaggle/input/full-data-final/ProjectData/Val/mask\""
      ],
      "metadata": {
        "trusted": true,
        "execution": {
          "iopub.status.busy": "2024-12-19T11:55:20.726237Z",
          "iopub.execute_input": "2024-12-19T11:55:20.726629Z",
          "iopub.status.idle": "2024-12-19T11:55:20.731356Z",
          "shell.execute_reply.started": "2024-12-19T11:55:20.726568Z",
          "shell.execute_reply": "2024-12-19T11:55:20.730282Z"
        },
        "id": "I4Xe6hGv_UJK"
      },
      "outputs": [],
      "execution_count": null
    },
    {
      "cell_type": "code",
      "source": [
        "train_img_label_map_mask = load_images_and_create_map(train_dir_mask, plant_type_mapping)\n",
        "print(\"Training dataset mapping length:\", len(train_img_label_map_mask))\n",
        "\n",
        "val_img_label_map_mask = load_images_and_create_map(val_dir_mask, plant_type_mapping)\n",
        "print(\"Validation dataset mapping length:\", len(val_img_label_map_mask))"
      ],
      "metadata": {
        "trusted": true,
        "execution": {
          "iopub.status.busy": "2024-12-19T11:55:20.733789Z",
          "iopub.execute_input": "2024-12-19T11:55:20.734051Z",
          "iopub.status.idle": "2024-12-19T11:55:21.728681Z",
          "shell.execute_reply.started": "2024-12-19T11:55:20.734026Z",
          "shell.execute_reply": "2024-12-19T11:55:21.727769Z"
        },
        "id": "7lnLJG4I_UJL"
      },
      "outputs": [],
      "execution_count": null
    },
    {
      "cell_type": "markdown",
      "source": [
        "#### **Model**"
      ],
      "metadata": {
        "id": "N0qKd7tl_UJM"
      }
    },
    {
      "cell_type": "code",
      "source": [
        "def enable_gpu():\n",
        "    gpus = tf.config.experimental.list_physical_devices('GPU')\n",
        "    if gpus:\n",
        "        try:\n",
        "            for gpu in gpus:\n",
        "                tf.config.experimental.set_memory_growth(gpu, True)\n",
        "        except RuntimeError as e:\n",
        "            print(e)\n",
        "\n",
        "enable_gpu()"
      ],
      "metadata": {
        "trusted": true,
        "execution": {
          "iopub.status.busy": "2024-12-19T11:55:21.729847Z",
          "iopub.execute_input": "2024-12-19T11:55:21.730129Z",
          "iopub.status.idle": "2024-12-19T11:55:21.735209Z",
          "shell.execute_reply.started": "2024-12-19T11:55:21.730103Z",
          "shell.execute_reply": "2024-12-19T11:55:21.734274Z"
        },
        "id": "E6zUuTvo_UJM"
      },
      "outputs": [],
      "execution_count": null
    },
    {
      "cell_type": "code",
      "source": [
        "def preprocess_mask(mask_path):\n",
        "    mask = load_img(mask_path, target_size=(256, 256), color_mode='grayscale')\n",
        "    mask = img_to_array(mask).astype(np.float32)\n",
        "    mask = mask / 255.0\n",
        "    mask = np.where(mask > 0.5, 1, 0)\n",
        "    return mask"
      ],
      "metadata": {
        "trusted": true,
        "execution": {
          "iopub.status.busy": "2024-12-19T11:55:21.736529Z",
          "iopub.execute_input": "2024-12-19T11:55:21.736921Z",
          "iopub.status.idle": "2024-12-19T11:55:21.754472Z",
          "shell.execute_reply.started": "2024-12-19T11:55:21.73688Z",
          "shell.execute_reply": "2024-12-19T11:55:21.753637Z"
        },
        "id": "eFmNNYUE_UJM"
      },
      "outputs": [],
      "execution_count": null
    },
    {
      "cell_type": "code",
      "source": [
        "class SegmentationGenerator(Sequence):\n",
        "    def __init__(self, image_paths, mask_paths, batch_size=16, img_size=(256, 256), num_classes=1):\n",
        "        self.image_paths = image_paths\n",
        "        self.mask_paths = mask_paths\n",
        "        self.batch_size = batch_size\n",
        "        self.img_size = img_size\n",
        "        self.num_classes = num_classes\n",
        "\n",
        "    def __len__(self):\n",
        "        return len(self.image_paths) // self.batch_size\n",
        "\n",
        "    def __getitem__(self, idx):\n",
        "        batch_image_paths = self.image_paths[idx * self.batch_size:(idx + 1) * self.batch_size]\n",
        "        batch_mask_paths = self.mask_paths[idx * self.batch_size:(idx + 1) * self.batch_size]\n",
        "\n",
        "        images = [preprocess_image(p) for p in batch_image_paths]\n",
        "        masks = [preprocess_mask(p) for p in batch_mask_paths]\n",
        "\n",
        "        return np.array(images), np.array(masks)\n",
        "        return np.array(images), np.array(masks)"
      ],
      "metadata": {
        "trusted": true,
        "execution": {
          "iopub.status.busy": "2024-12-19T11:55:21.755841Z",
          "iopub.execute_input": "2024-12-19T11:55:21.756162Z",
          "iopub.status.idle": "2024-12-19T11:55:21.768607Z",
          "shell.execute_reply.started": "2024-12-19T11:55:21.756135Z",
          "shell.execute_reply": "2024-12-19T11:55:21.767439Z"
        },
        "id": "QmkOADO3_UJN"
      },
      "outputs": [],
      "execution_count": null
    },
    {
      "cell_type": "code",
      "source": [
        "def build_segmentation_model(input_shape=(256, 256, 3), num_classes=1):\n",
        "\n",
        "    inputs = Input(shape=input_shape)\n",
        "    backbone = ResNet50(weights='imagenet', include_top=False, input_tensor=inputs)\n",
        "\n",
        "    x = backbone.get_layer('conv4_block6_out').output\n",
        "\n",
        "    aspp = Conv2D(256, 1, padding=\"same\", activation=\"relu\")(x)\n",
        "    aspp = UpSampling2D(size=(4, 4), interpolation='bilinear')(aspp)\n",
        "\n",
        "    low_level_features = backbone.get_layer('conv2_block3_out').output\n",
        "    low_level_features = Conv2D(48, 1, padding=\"same\", activation=\"relu\")(low_level_features)\n",
        "\n",
        "    combined = Concatenate()([aspp, low_level_features])\n",
        "    x = Conv2D(256, 3, padding=\"same\", activation=\"relu\")(combined)\n",
        "    x = UpSampling2D(size=(4, 4), interpolation='bilinear')(x)\n",
        "\n",
        "    outputs = Conv2D(1, 1, activation=\"sigmoid\", padding=\"same\")(x)\n",
        "\n",
        "    return Model(inputs, outputs)"
      ],
      "metadata": {
        "trusted": true,
        "execution": {
          "iopub.status.busy": "2024-12-19T11:55:21.769856Z",
          "iopub.execute_input": "2024-12-19T11:55:21.770203Z",
          "iopub.status.idle": "2024-12-19T11:55:21.78348Z",
          "shell.execute_reply.started": "2024-12-19T11:55:21.770174Z",
          "shell.execute_reply": "2024-12-19T11:55:21.782421Z"
        },
        "id": "hI6WaJk1_UJN"
      },
      "outputs": [],
      "execution_count": null
    },
    {
      "cell_type": "code",
      "source": [
        "model = build_segmentation_model()\n",
        "model.compile(\n",
        "    optimizer=tf.keras.optimizers.Adam(learning_rate=0.001),\n",
        "    loss=\"binary_crossentropy\",\n",
        "    metrics=[\"accuracy\"])\n",
        "\n",
        "model.summary()"
      ],
      "metadata": {
        "trusted": true,
        "execution": {
          "iopub.status.busy": "2024-12-19T11:55:21.785224Z",
          "iopub.execute_input": "2024-12-19T11:55:21.785633Z",
          "iopub.status.idle": "2024-12-19T11:55:23.469894Z",
          "shell.execute_reply.started": "2024-12-19T11:55:21.785575Z",
          "shell.execute_reply": "2024-12-19T11:55:23.469031Z"
        },
        "id": "PFfaBd_C_UJN"
      },
      "outputs": [],
      "execution_count": null
    },
    {
      "cell_type": "code",
      "source": [
        "train_image_paths = sorted(train_img_label_map.keys())\n",
        "train_mask_paths = sorted(train_img_label_map_mask.keys())\n",
        "\n",
        "val_image_paths = sorted(val_img_label_map.keys())\n",
        "val_mask_paths = sorted(val_img_label_map_mask.keys())\n",
        "\n",
        "train_gen = SegmentationGenerator(train_image_paths, train_mask_paths, batch_size=16, num_classes=1)\n",
        "val_gen = SegmentationGenerator(val_image_paths, val_mask_paths, batch_size=16, num_classes=1)"
      ],
      "metadata": {
        "trusted": true,
        "execution": {
          "iopub.status.busy": "2024-12-19T11:55:23.471062Z",
          "iopub.execute_input": "2024-12-19T11:55:23.471392Z",
          "iopub.status.idle": "2024-12-19T11:55:23.476914Z",
          "shell.execute_reply.started": "2024-12-19T11:55:23.471364Z",
          "shell.execute_reply": "2024-12-19T11:55:23.476056Z"
        },
        "id": "-hzXlemJ_UJN"
      },
      "outputs": [],
      "execution_count": null
    },
    {
      "cell_type": "code",
      "source": [
        "early_stopping = tf.keras.callbacks.EarlyStopping(\n",
        "    patience=8,\n",
        "    monitor='val_accuracy',\n",
        "    restore_best_weights=True)\n",
        "\n",
        "history = model.fit(\n",
        "    train_gen,\n",
        "    validation_data=val_gen,\n",
        "    epochs=20,\n",
        "    callbacks=[early_stopping])\n",
        "\n",
        "#model.save(\"segmentation_model.h5\")"
      ],
      "metadata": {
        "trusted": true,
        "execution": {
          "iopub.status.busy": "2024-12-19T11:55:42.114183Z",
          "iopub.execute_input": "2024-12-19T11:55:42.114851Z",
          "iopub.status.idle": "2024-12-19T12:02:58.933196Z",
          "shell.execute_reply.started": "2024-12-19T11:55:42.114816Z",
          "shell.execute_reply": "2024-12-19T12:02:58.932151Z"
        },
        "id": "6fHilYVX_UJO"
      },
      "outputs": [],
      "execution_count": null
    },
    {
      "cell_type": "code",
      "source": [
        "val_loss, val_acc = model.evaluate(val_gen)\n",
        "train_loss, train_acc = model.evaluate(train_gen)\n",
        "print(f\"\\nFinal Validation Loss: {val_loss:.4f}, Final Validation Accuracy: {val_acc:.4f}\")\n",
        "print(f\"\\nFinal Training Loss: {train_loss:.4f}, Final Training Accuracy: {train_acc:.4f}\")"
      ],
      "metadata": {
        "trusted": true,
        "execution": {
          "iopub.status.busy": "2024-12-19T12:03:05.336318Z",
          "iopub.execute_input": "2024-12-19T12:03:05.33669Z",
          "iopub.status.idle": "2024-12-19T12:03:16.127268Z",
          "shell.execute_reply.started": "2024-12-19T12:03:05.336658Z",
          "shell.execute_reply": "2024-12-19T12:03:16.126323Z"
        },
        "id": "cJ1n3C7k_UJO"
      },
      "outputs": [],
      "execution_count": null
    },
    {
      "cell_type": "code",
      "source": [
        "def predict_and_plot(image_path, mask_path, model, threshold=0.5):\n",
        "\n",
        "    image = preprocess_image(image_path)\n",
        "    true_mask = preprocess_mask(mask_path)\n",
        "\n",
        "    image_input = np.expand_dims(image, axis=0)\n",
        "\n",
        "    prediction = model.predict(image_input)\n",
        "    predicted_mask = (prediction[0] > threshold).astype(np.uint8).squeeze()\n",
        "\n",
        "    plt.figure(figsize=(18, 6))\n",
        "    plt.subplot(1, 3, 1)\n",
        "    plt.imshow(image)\n",
        "    plt.title(\"Original Image\")\n",
        "    plt.axis(\"off\")\n",
        "\n",
        "    plt.subplot(1, 3, 2)\n",
        "    plt.imshow(true_mask.squeeze(), cmap=\"gray\")\n",
        "    plt.title(\"True Mask\")\n",
        "    plt.axis(\"off\")\n",
        "\n",
        "    plt.subplot(1, 3, 3)\n",
        "    plt.imshow(predicted_mask, cmap=\"gray\")\n",
        "    plt.title(\"Predicted Mask\")\n",
        "    plt.axis(\"off\")\n",
        "\n",
        "    plt.tight_layout()\n",
        "    plt.show()\n",
        "\n",
        "\n",
        "print(\"Model loaded successfully.\")\n",
        "\n",
        "image_path = \"/kaggle/input/full-data-final/ProjectData/Train/images/Apple___Apple_scab/0208f4eb-45a4-4399-904e-989ac2c6257c___FREC_Scab 3037.JPG\"\n",
        "mask_path = \"/kaggle/input/full-data-final/ProjectData/Train/mask/Apple___Apple_scab/0208f4eb-45a4-4399-904e-989ac2c6257c___FREC_Scab 3037_final_masked.jpg\"\n",
        "predict_and_plot(image_path, mask_path, model)"
      ],
      "metadata": {
        "trusted": true,
        "execution": {
          "iopub.status.busy": "2024-12-19T12:03:40.37712Z",
          "iopub.execute_input": "2024-12-19T12:03:40.377446Z",
          "iopub.status.idle": "2024-12-19T12:03:44.214141Z",
          "shell.execute_reply.started": "2024-12-19T12:03:40.377419Z",
          "shell.execute_reply": "2024-12-19T12:03:44.213271Z"
        },
        "id": "CiHRmYlG_UJO"
      },
      "outputs": [],
      "execution_count": null
    },
    {
      "cell_type": "code",
      "source": [
        "image_path = \"/kaggle/input/full-data-final/ProjectData/Val/images/Cherry_(including_sour)___healthy/4f870c34-1889-429c-adb2-0f70faf0ca30___JR_HL 9745.JPG\"\n",
        "mask_path = \"/kaggle/input/full-data-final/ProjectData/Val/mask/Cherry_(including_sour)___healthy/4f870c34-1889-429c-adb2-0f70faf0ca30___JR_HL 9745_final_masked.jpg\"\n",
        "\n",
        "predict_and_plot(image_path, mask_path, model)"
      ],
      "metadata": {
        "trusted": true,
        "execution": {
          "iopub.status.busy": "2024-12-19T12:03:49.592613Z",
          "iopub.execute_input": "2024-12-19T12:03:49.593431Z",
          "iopub.status.idle": "2024-12-19T12:03:50.189573Z",
          "shell.execute_reply.started": "2024-12-19T12:03:49.593397Z",
          "shell.execute_reply": "2024-12-19T12:03:50.188535Z"
        },
        "id": "Ceq43u9m_UJO"
      },
      "outputs": [],
      "execution_count": null
    },
    {
      "cell_type": "code",
      "source": [
        "image_path = \"/kaggle/input/full-data-final/ProjectData/Val/images/Strawberry___healthy/096ce0d4-c5ef-4b66-b20f-f9ff62d09f48___RS_HL 1879.JPG\"\n",
        "mask_path = \"/kaggle/input/full-data-final/ProjectData/Val/mask/Strawberry___healthy/096ce0d4-c5ef-4b66-b20f-f9ff62d09f48___RS_HL 1879_final_masked.jpg\"\n",
        "\n",
        "predict_and_plot(image_path, mask_path, model)"
      ],
      "metadata": {
        "trusted": true,
        "execution": {
          "iopub.status.busy": "2024-12-19T12:03:53.981881Z",
          "iopub.execute_input": "2024-12-19T12:03:53.982485Z",
          "iopub.status.idle": "2024-12-19T12:03:54.572844Z",
          "shell.execute_reply.started": "2024-12-19T12:03:53.982453Z",
          "shell.execute_reply": "2024-12-19T12:03:54.571904Z"
        },
        "id": "cIubJv-Y_UJO"
      },
      "outputs": [],
      "execution_count": null
    },
    {
      "cell_type": "markdown",
      "source": [
        "## **Test Script**"
      ],
      "metadata": {
        "id": "UUq9Xwt3_UJP"
      }
    },
    {
      "cell_type": "code",
      "source": [
        "import os\n",
        "from sklearn.preprocessing import LabelEncoder\n",
        "\n",
        "def load_images_and_create_map_test(directory, plant_type_mapping):\n",
        "\n",
        "    img_label_map = {}\n",
        "\n",
        "    label_encoder = LabelEncoder()\n",
        "    label_encoder.fit(list(plant_type_mapping.keys()))\n",
        "\n",
        "    for plant_type, disease_folders in plant_type_mapping.items():\n",
        "        for disease_folder in disease_folders:\n",
        "            disease_folder_path = os.path.join(directory, disease_folder)\n",
        "\n",
        "            try:\n",
        "                if not os.path.isdir(disease_folder_path):\n",
        "                    continue  # Skip to the next disease folder\n",
        "\n",
        "                for img_name in os.listdir(disease_folder_path):\n",
        "                    img_path = os.path.join(disease_folder_path, img_name)\n",
        "\n",
        "                    if os.path.isfile(img_path):\n",
        "                        try:\n",
        "                            label = label_encoder.transform([plant_type])[0]\n",
        "                            img_label_map[img_path] = label\n",
        "                        except Exception as e:\n",
        "                            print(f\"Error encoding label for plant type '{plant_type}': {e}\")\n",
        "                            continue\n",
        "            except Exception as e:\n",
        "                print(f\"Error processing folder '{disease_folder_path}': {e}\")\n",
        "                continue\n",
        "\n",
        "    return img_label_map\n"
      ],
      "metadata": {
        "trusted": true,
        "execution": {
          "iopub.status.busy": "2024-12-19T12:03:57.70913Z",
          "iopub.execute_input": "2024-12-19T12:03:57.709475Z",
          "iopub.status.idle": "2024-12-19T12:03:57.716702Z",
          "shell.execute_reply.started": "2024-12-19T12:03:57.709443Z",
          "shell.execute_reply": "2024-12-19T12:03:57.715782Z"
        },
        "id": "swcUN9sa_UJP"
      },
      "outputs": [],
      "execution_count": null
    },
    {
      "cell_type": "code",
      "source": [
        "test_dir = '/kaggle/input/segment/test seg/images'\n",
        "mask_test_dir = \"/kaggle/input/segment/test seg/binary_seg\"\n",
        "\n",
        "test_img_label_map = load_images_and_create_map_test(test_dir, plant_type_mapping)\n",
        "print(\"Test dataset mapping length:\", len(test_img_label_map))\n",
        "\n",
        "test_img_label_map_mask = load_images_and_create_map_test(mask_test_dir, plant_type_mapping)\n",
        "print(\"Test dataset mapping mask length:\", len(test_img_label_map_mask))\n"
      ],
      "metadata": {
        "trusted": true,
        "execution": {
          "iopub.status.busy": "2024-12-19T12:04:00.911958Z",
          "iopub.execute_input": "2024-12-19T12:04:00.912693Z",
          "iopub.status.idle": "2024-12-19T12:04:01.234054Z",
          "shell.execute_reply.started": "2024-12-19T12:04:00.912659Z",
          "shell.execute_reply": "2024-12-19T12:04:01.233052Z"
        },
        "id": "XsyxaiqL_UJP"
      },
      "outputs": [],
      "execution_count": null
    },
    {
      "cell_type": "code",
      "source": [
        "test_image_paths = sorted(test_img_label_map.keys())\n",
        "test_mask_paths = sorted(test_img_label_map_mask.keys())\n",
        "\n",
        "\n",
        "test_gen = SegmentationGenerator(test_image_paths, test_mask_paths, batch_size=16, num_classes=1)\n"
      ],
      "metadata": {
        "trusted": true,
        "execution": {
          "iopub.status.busy": "2024-12-19T12:04:11.534108Z",
          "iopub.execute_input": "2024-12-19T12:04:11.534986Z",
          "iopub.status.idle": "2024-12-19T12:04:11.53943Z",
          "shell.execute_reply.started": "2024-12-19T12:04:11.534948Z",
          "shell.execute_reply": "2024-12-19T12:04:11.538302Z"
        },
        "id": "ta2ZQ1s-_UJP"
      },
      "outputs": [],
      "execution_count": null
    },
    {
      "cell_type": "code",
      "source": [
        "model_path = \"/kaggle/input/segmentation_model/other/default/1/segmentation_model.h5\"\n",
        "#model = load_model(model_path, compile=False)\n",
        "print(\"Model loaded successfully.\")"
      ],
      "metadata": {
        "trusted": true,
        "execution": {
          "iopub.status.busy": "2024-12-19T12:04:13.129708Z",
          "iopub.execute_input": "2024-12-19T12:04:13.130059Z",
          "iopub.status.idle": "2024-12-19T12:04:13.135041Z",
          "shell.execute_reply.started": "2024-12-19T12:04:13.13003Z",
          "shell.execute_reply": "2024-12-19T12:04:13.133966Z"
        },
        "id": "UfEhqkrR_UJQ"
      },
      "outputs": [],
      "execution_count": null
    },
    {
      "cell_type": "code",
      "source": [
        "import numpy as np\n",
        "from sklearn.metrics import accuracy_score, confusion_matrix\n",
        "\n",
        "y_pred = model.predict(test_gen, verbose=1)\n",
        "y_pred_binary = (y_pred > 0.5).astype(np.float32)\n",
        "\n",
        "y_true_list = []\n",
        "y_pred_list = []\n",
        "current_index = 0\n",
        "\n",
        "for i in range(len(test_gen)):\n",
        "\n",
        "    _, masks = test_gen[i]\n",
        "    y_true_list.append(masks)\n",
        "\n",
        "    batch_size = masks.shape[0]\n",
        "    #print(\"batch size : \" , batch_size)\n",
        "\n",
        "    y_pred_list.append(y_pred_binary[current_index:current_index + batch_size])\n",
        "\n",
        "    current_index += batch_size\n",
        "\n",
        "y_true = np.concatenate(y_true_list, axis=0).reshape(-1)\n",
        "y_pred_flat = np.concatenate(y_pred_list, axis=0).reshape(-1)\n",
        "\n",
        "print(f\"Length of y_true: {len(y_true)}\")\n",
        "print(f\"Length of y_pred_flat: {len(y_pred_flat)}\")\n",
        "\n",
        "accuracy = accuracy_score(y_true, y_pred_flat)\n",
        "print(f\"Test Pixel-wise Accuracy: {accuracy:.4f}\")\n",
        "\n",
        "cm = confusion_matrix(y_true, y_pred_flat)\n",
        "print(\"Confusion Matrix:\")\n",
        "print(cm)\n"
      ],
      "metadata": {
        "trusted": true,
        "execution": {
          "iopub.status.busy": "2024-12-19T12:04:16.348775Z",
          "iopub.execute_input": "2024-12-19T12:04:16.349143Z",
          "iopub.status.idle": "2024-12-19T12:04:23.848784Z",
          "shell.execute_reply.started": "2024-12-19T12:04:16.349113Z",
          "shell.execute_reply": "2024-12-19T12:04:23.847753Z"
        },
        "id": "a3AYFloS_UJQ"
      },
      "outputs": [],
      "execution_count": null
    },
    {
      "cell_type": "code",
      "source": [],
      "metadata": {
        "trusted": true,
        "id": "NOLuOKpo_UJQ"
      },
      "outputs": [],
      "execution_count": null
    }
  ]
}